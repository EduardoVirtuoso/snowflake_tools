{
 "cells": [
  {
   "cell_type": "code",
   "execution_count": 1,
   "metadata": {},
   "outputs": [],
   "source": [
    "import geopandas as gpd\n",
    "import pandas as pd\n",
    "import osmnx as ox\n",
    "import networkx as nx\n",
    "import numpy as np"
   ]
  },
  {
   "cell_type": "code",
   "execution_count": 7,
   "metadata": {},
   "outputs": [
    {
     "data": {
      "text/html": [
       "<div>\n",
       "<style scoped>\n",
       "    .dataframe tbody tr th:only-of-type {\n",
       "        vertical-align: middle;\n",
       "    }\n",
       "\n",
       "    .dataframe tbody tr th {\n",
       "        vertical-align: top;\n",
       "    }\n",
       "\n",
       "    .dataframe thead th {\n",
       "        text-align: right;\n",
       "    }\n",
       "</style>\n",
       "<table border=\"1\" class=\"dataframe\">\n",
       "  <thead>\n",
       "    <tr style=\"text-align: right;\">\n",
       "      <th></th>\n",
       "      <th></th>\n",
       "      <th>addr:housenumber</th>\n",
       "      <th>addr:postcode</th>\n",
       "      <th>addr:street</th>\n",
       "      <th>amenity</th>\n",
       "      <th>healthcare</th>\n",
       "      <th>name</th>\n",
       "      <th>name:en</th>\n",
       "      <th>ref:CNES</th>\n",
       "      <th>ref:vatin</th>\n",
       "      <th>geometry</th>\n",
       "      <th>...</th>\n",
       "      <th>alt_name</th>\n",
       "      <th>short_name</th>\n",
       "      <th>start_date</th>\n",
       "      <th>addr:city</th>\n",
       "      <th>contact:facebook</th>\n",
       "      <th>contact:instagram</th>\n",
       "      <th>ways</th>\n",
       "      <th>building</th>\n",
       "      <th>building:levels</th>\n",
       "      <th>type</th>\n",
       "    </tr>\n",
       "    <tr>\n",
       "      <th>element_type</th>\n",
       "      <th>osmid</th>\n",
       "      <th></th>\n",
       "      <th></th>\n",
       "      <th></th>\n",
       "      <th></th>\n",
       "      <th></th>\n",
       "      <th></th>\n",
       "      <th></th>\n",
       "      <th></th>\n",
       "      <th></th>\n",
       "      <th></th>\n",
       "      <th></th>\n",
       "      <th></th>\n",
       "      <th></th>\n",
       "      <th></th>\n",
       "      <th></th>\n",
       "      <th></th>\n",
       "      <th></th>\n",
       "      <th></th>\n",
       "      <th></th>\n",
       "      <th></th>\n",
       "      <th></th>\n",
       "    </tr>\n",
       "  </thead>\n",
       "  <tbody>\n",
       "    <tr>\n",
       "      <th>node</th>\n",
       "      <th>2087827552</th>\n",
       "      <td>651</td>\n",
       "      <td>90040-000</td>\n",
       "      <td>Avenida João Pessoa</td>\n",
       "      <td>hospital</td>\n",
       "      <td>hospital</td>\n",
       "      <td>Policlínica Militar de Porto Alegre</td>\n",
       "      <td>Porto Alegre's Military Policlininc</td>\n",
       "      <td>915742</td>\n",
       "      <td>BR09544774000158</td>\n",
       "      <td>POINT (-51.21973 -30.03802)</td>\n",
       "      <td>...</td>\n",
       "      <td>NaN</td>\n",
       "      <td>NaN</td>\n",
       "      <td>NaN</td>\n",
       "      <td>NaN</td>\n",
       "      <td>NaN</td>\n",
       "      <td>NaN</td>\n",
       "      <td>NaN</td>\n",
       "      <td>NaN</td>\n",
       "      <td>NaN</td>\n",
       "      <td>NaN</td>\n",
       "    </tr>\n",
       "    <tr>\n",
       "      <th rowspan=\"7\" valign=\"top\">way</th>\n",
       "      <th>126014194</th>\n",
       "      <td>NaN</td>\n",
       "      <td>NaN</td>\n",
       "      <td>NaN</td>\n",
       "      <td>hospital</td>\n",
       "      <td>hospital</td>\n",
       "      <td>Santa Casa de Misericórdia</td>\n",
       "      <td>Santa Casa de Misericordia Hospital</td>\n",
       "      <td>NaN</td>\n",
       "      <td>NaN</td>\n",
       "      <td>POLYGON ((-51.22228 -30.03177, -51.22053 -30.0...</td>\n",
       "      <td>...</td>\n",
       "      <td>NaN</td>\n",
       "      <td>NaN</td>\n",
       "      <td>NaN</td>\n",
       "      <td>NaN</td>\n",
       "      <td>NaN</td>\n",
       "      <td>NaN</td>\n",
       "      <td>NaN</td>\n",
       "      <td>NaN</td>\n",
       "      <td>NaN</td>\n",
       "      <td>NaN</td>\n",
       "    </tr>\n",
       "    <tr>\n",
       "      <th>233791059</th>\n",
       "      <td>55</td>\n",
       "      <td>90040-341</td>\n",
       "      <td>Rua Jeronimo de Ornellas</td>\n",
       "      <td>hospital</td>\n",
       "      <td>hospital</td>\n",
       "      <td>Centro de Saúde Modelo</td>\n",
       "      <td>NaN</td>\n",
       "      <td>2264390</td>\n",
       "      <td>NaN</td>\n",
       "      <td>POLYGON ((-51.21440 -30.04344, -51.21423 -30.0...</td>\n",
       "      <td>...</td>\n",
       "      <td>NaN</td>\n",
       "      <td>NaN</td>\n",
       "      <td>NaN</td>\n",
       "      <td>NaN</td>\n",
       "      <td>NaN</td>\n",
       "      <td>NaN</td>\n",
       "      <td>NaN</td>\n",
       "      <td>NaN</td>\n",
       "      <td>NaN</td>\n",
       "      <td>NaN</td>\n",
       "    </tr>\n",
       "    <tr>\n",
       "      <th>233806011</th>\n",
       "      <td>NaN</td>\n",
       "      <td>NaN</td>\n",
       "      <td>NaN</td>\n",
       "      <td>hospital</td>\n",
       "      <td>hospital</td>\n",
       "      <td>Hospital Porto Alegre</td>\n",
       "      <td>NaN</td>\n",
       "      <td>NaN</td>\n",
       "      <td>NaN</td>\n",
       "      <td>POLYGON ((-51.21720 -30.04574, -51.21640 -30.0...</td>\n",
       "      <td>...</td>\n",
       "      <td>NaN</td>\n",
       "      <td>NaN</td>\n",
       "      <td>NaN</td>\n",
       "      <td>NaN</td>\n",
       "      <td>NaN</td>\n",
       "      <td>NaN</td>\n",
       "      <td>NaN</td>\n",
       "      <td>NaN</td>\n",
       "      <td>NaN</td>\n",
       "      <td>NaN</td>\n",
       "    </tr>\n",
       "    <tr>\n",
       "      <th>244644162</th>\n",
       "      <td>NaN</td>\n",
       "      <td>NaN</td>\n",
       "      <td>Largo Teodoro Herzl</td>\n",
       "      <td>hospital</td>\n",
       "      <td>hospital</td>\n",
       "      <td>Hospital de Pronto Socorro</td>\n",
       "      <td>NaN</td>\n",
       "      <td>NaN</td>\n",
       "      <td>NaN</td>\n",
       "      <td>POLYGON ((-51.21000 -30.03682, -51.20996 -30.0...</td>\n",
       "      <td>...</td>\n",
       "      <td>HPS</td>\n",
       "      <td>HPS</td>\n",
       "      <td>1944</td>\n",
       "      <td>NaN</td>\n",
       "      <td>NaN</td>\n",
       "      <td>NaN</td>\n",
       "      <td>NaN</td>\n",
       "      <td>NaN</td>\n",
       "      <td>NaN</td>\n",
       "      <td>NaN</td>\n",
       "    </tr>\n",
       "    <tr>\n",
       "      <th>353491145</th>\n",
       "      <td>910</td>\n",
       "      <td>90035-000</td>\n",
       "      <td>Rua Ramiro Barcelos</td>\n",
       "      <td>hospital</td>\n",
       "      <td>hospital</td>\n",
       "      <td>Hospital Moinhos de Vento</td>\n",
       "      <td>NaN</td>\n",
       "      <td>3006522</td>\n",
       "      <td>BR92685833000151</td>\n",
       "      <td>POLYGON ((-51.20934 -30.02634, -51.20909 -30.0...</td>\n",
       "      <td>...</td>\n",
       "      <td>NaN</td>\n",
       "      <td>NaN</td>\n",
       "      <td>NaN</td>\n",
       "      <td>Porto Alegre</td>\n",
       "      <td>HospitalMoinhos</td>\n",
       "      <td>hospitalmoinhosdevento</td>\n",
       "      <td>NaN</td>\n",
       "      <td>NaN</td>\n",
       "      <td>NaN</td>\n",
       "      <td>NaN</td>\n",
       "    </tr>\n",
       "    <tr>\n",
       "      <th>442584818</th>\n",
       "      <td>NaN</td>\n",
       "      <td>NaN</td>\n",
       "      <td>NaN</td>\n",
       "      <td>hospital</td>\n",
       "      <td>hospital</td>\n",
       "      <td>Hospital Beneficência Portuguesa</td>\n",
       "      <td>NaN</td>\n",
       "      <td>NaN</td>\n",
       "      <td>NaN</td>\n",
       "      <td>POLYGON ((-51.21929 -30.02848, -51.21901 -30.0...</td>\n",
       "      <td>...</td>\n",
       "      <td>NaN</td>\n",
       "      <td>NaN</td>\n",
       "      <td>NaN</td>\n",
       "      <td>NaN</td>\n",
       "      <td>NaN</td>\n",
       "      <td>NaN</td>\n",
       "      <td>NaN</td>\n",
       "      <td>NaN</td>\n",
       "      <td>NaN</td>\n",
       "      <td>NaN</td>\n",
       "    </tr>\n",
       "    <tr>\n",
       "      <th>1066302991</th>\n",
       "      <td>542</td>\n",
       "      <td>NaN</td>\n",
       "      <td>Rua Fernandes Vieira, 542 - Bom Fim, Porto Ale...</td>\n",
       "      <td>hospital</td>\n",
       "      <td>hospital</td>\n",
       "      <td>Suksteris - Núcleo de Medicina</td>\n",
       "      <td>NaN</td>\n",
       "      <td>NaN</td>\n",
       "      <td>NaN</td>\n",
       "      <td>POLYGON ((-51.21085 -30.03427, -51.21082 -30.0...</td>\n",
       "      <td>...</td>\n",
       "      <td>NaN</td>\n",
       "      <td>NaN</td>\n",
       "      <td>NaN</td>\n",
       "      <td>NaN</td>\n",
       "      <td>NaN</td>\n",
       "      <td>NaN</td>\n",
       "      <td>NaN</td>\n",
       "      <td>NaN</td>\n",
       "      <td>NaN</td>\n",
       "      <td>NaN</td>\n",
       "    </tr>\n",
       "    <tr>\n",
       "      <th>relation</th>\n",
       "      <th>6232100</th>\n",
       "      <td>661</td>\n",
       "      <td>90035-052</td>\n",
       "      <td>Avenida Independência</td>\n",
       "      <td>hospital</td>\n",
       "      <td>hospital</td>\n",
       "      <td>Hospital Presidente Vargas</td>\n",
       "      <td>NaN</td>\n",
       "      <td>2237822</td>\n",
       "      <td>NaN</td>\n",
       "      <td>POLYGON ((-51.21454 -30.02945, -51.21454 -30.0...</td>\n",
       "      <td>...</td>\n",
       "      <td>NaN</td>\n",
       "      <td>NaN</td>\n",
       "      <td>NaN</td>\n",
       "      <td>Porto Alegre</td>\n",
       "      <td>NaN</td>\n",
       "      <td>NaN</td>\n",
       "      <td>[419339463]</td>\n",
       "      <td>hospital</td>\n",
       "      <td>8</td>\n",
       "      <td>multipolygon</td>\n",
       "    </tr>\n",
       "  </tbody>\n",
       "</table>\n",
       "<p>9 rows × 30 columns</p>\n",
       "</div>"
      ],
      "text/plain": [
       "                        addr:housenumber addr:postcode  \\\n",
       "element_type osmid                                       \n",
       "node         2087827552              651     90040-000   \n",
       "way          126014194               NaN           NaN   \n",
       "             233791059                55     90040-341   \n",
       "             233806011               NaN           NaN   \n",
       "             244644162               NaN           NaN   \n",
       "             353491145               910     90035-000   \n",
       "             442584818               NaN           NaN   \n",
       "             1066302991              542           NaN   \n",
       "relation     6232100                 661     90035-052   \n",
       "\n",
       "                                                               addr:street  \\\n",
       "element_type osmid                                                           \n",
       "node         2087827552                                Avenida João Pessoa   \n",
       "way          126014194                                                 NaN   \n",
       "             233791059                            Rua Jeronimo de Ornellas   \n",
       "             233806011                                                 NaN   \n",
       "             244644162                                 Largo Teodoro Herzl   \n",
       "             353491145                                 Rua Ramiro Barcelos   \n",
       "             442584818                                                 NaN   \n",
       "             1066302991  Rua Fernandes Vieira, 542 - Bom Fim, Porto Ale...   \n",
       "relation     6232100                                 Avenida Independência   \n",
       "\n",
       "                          amenity healthcare  \\\n",
       "element_type osmid                             \n",
       "node         2087827552  hospital   hospital   \n",
       "way          126014194   hospital   hospital   \n",
       "             233791059   hospital   hospital   \n",
       "             233806011   hospital   hospital   \n",
       "             244644162   hospital   hospital   \n",
       "             353491145   hospital   hospital   \n",
       "             442584818   hospital   hospital   \n",
       "             1066302991  hospital   hospital   \n",
       "relation     6232100     hospital   hospital   \n",
       "\n",
       "                                                        name  \\\n",
       "element_type osmid                                             \n",
       "node         2087827552  Policlínica Militar de Porto Alegre   \n",
       "way          126014194            Santa Casa de Misericórdia   \n",
       "             233791059                Centro de Saúde Modelo   \n",
       "             233806011                 Hospital Porto Alegre   \n",
       "             244644162            Hospital de Pronto Socorro   \n",
       "             353491145             Hospital Moinhos de Vento   \n",
       "             442584818      Hospital Beneficência Portuguesa   \n",
       "             1066302991       Suksteris - Núcleo de Medicina   \n",
       "relation     6232100              Hospital Presidente Vargas   \n",
       "\n",
       "                                                     name:en ref:CNES  \\\n",
       "element_type osmid                                                      \n",
       "node         2087827552  Porto Alegre's Military Policlininc   915742   \n",
       "way          126014194   Santa Casa de Misericordia Hospital      NaN   \n",
       "             233791059                                   NaN  2264390   \n",
       "             233806011                                   NaN      NaN   \n",
       "             244644162                                   NaN      NaN   \n",
       "             353491145                                   NaN  3006522   \n",
       "             442584818                                   NaN      NaN   \n",
       "             1066302991                                  NaN      NaN   \n",
       "relation     6232100                                     NaN  2237822   \n",
       "\n",
       "                                ref:vatin  \\\n",
       "element_type osmid                          \n",
       "node         2087827552  BR09544774000158   \n",
       "way          126014194                NaN   \n",
       "             233791059                NaN   \n",
       "             233806011                NaN   \n",
       "             244644162                NaN   \n",
       "             353491145   BR92685833000151   \n",
       "             442584818                NaN   \n",
       "             1066302991               NaN   \n",
       "relation     6232100                  NaN   \n",
       "\n",
       "                                                                  geometry  \\\n",
       "element_type osmid                                                           \n",
       "node         2087827552                        POINT (-51.21973 -30.03802)   \n",
       "way          126014194   POLYGON ((-51.22228 -30.03177, -51.22053 -30.0...   \n",
       "             233791059   POLYGON ((-51.21440 -30.04344, -51.21423 -30.0...   \n",
       "             233806011   POLYGON ((-51.21720 -30.04574, -51.21640 -30.0...   \n",
       "             244644162   POLYGON ((-51.21000 -30.03682, -51.20996 -30.0...   \n",
       "             353491145   POLYGON ((-51.20934 -30.02634, -51.20909 -30.0...   \n",
       "             442584818   POLYGON ((-51.21929 -30.02848, -51.21901 -30.0...   \n",
       "             1066302991  POLYGON ((-51.21085 -30.03427, -51.21082 -30.0...   \n",
       "relation     6232100     POLYGON ((-51.21454 -30.02945, -51.21454 -30.0...   \n",
       "\n",
       "                         ... alt_name short_name start_date     addr:city  \\\n",
       "element_type osmid       ...                                                \n",
       "node         2087827552  ...      NaN        NaN        NaN           NaN   \n",
       "way          126014194   ...      NaN        NaN        NaN           NaN   \n",
       "             233791059   ...      NaN        NaN        NaN           NaN   \n",
       "             233806011   ...      NaN        NaN        NaN           NaN   \n",
       "             244644162   ...      HPS        HPS       1944           NaN   \n",
       "             353491145   ...      NaN        NaN        NaN  Porto Alegre   \n",
       "             442584818   ...      NaN        NaN        NaN           NaN   \n",
       "             1066302991  ...      NaN        NaN        NaN           NaN   \n",
       "relation     6232100     ...      NaN        NaN        NaN  Porto Alegre   \n",
       "\n",
       "                        contact:facebook       contact:instagram         ways  \\\n",
       "element_type osmid                                                              \n",
       "node         2087827552              NaN                     NaN          NaN   \n",
       "way          126014194               NaN                     NaN          NaN   \n",
       "             233791059               NaN                     NaN          NaN   \n",
       "             233806011               NaN                     NaN          NaN   \n",
       "             244644162               NaN                     NaN          NaN   \n",
       "             353491145   HospitalMoinhos  hospitalmoinhosdevento          NaN   \n",
       "             442584818               NaN                     NaN          NaN   \n",
       "             1066302991              NaN                     NaN          NaN   \n",
       "relation     6232100                 NaN                     NaN  [419339463]   \n",
       "\n",
       "                         building building:levels          type  \n",
       "element_type osmid                                               \n",
       "node         2087827552       NaN             NaN           NaN  \n",
       "way          126014194        NaN             NaN           NaN  \n",
       "             233791059        NaN             NaN           NaN  \n",
       "             233806011        NaN             NaN           NaN  \n",
       "             244644162        NaN             NaN           NaN  \n",
       "             353491145        NaN             NaN           NaN  \n",
       "             442584818        NaN             NaN           NaN  \n",
       "             1066302991       NaN             NaN           NaN  \n",
       "relation     6232100     hospital               8  multipolygon  \n",
       "\n",
       "[9 rows x 30 columns]"
      ]
     },
     "execution_count": 7,
     "metadata": {},
     "output_type": "execute_result"
    }
   ],
   "source": [
    "ox.features.features_from_address('Prefeitura Municipal de Porto Alegre',dist=2000,tags={'amenity':'hospital'})"
   ]
  },
  {
   "cell_type": "code",
   "execution_count": 5,
   "metadata": {},
   "outputs": [
    {
     "ename": "TypeError",
     "evalue": "features_from_place() got an unexpected keyword argument 'dist'",
     "output_type": "error",
     "traceback": [
      "\u001b[1;31m---------------------------------------------------------------------------\u001b[0m",
      "\u001b[1;31mTypeError\u001b[0m                                 Traceback (most recent call last)",
      "\u001b[1;32mc:\\dev\\pessoal\\snowflake_tools\\3-routing.ipynb Cell 3\u001b[0m line \u001b[0;36m1\n\u001b[1;32m----> <a href='vscode-notebook-cell:/c%3A/dev/pessoal/snowflake_tools/3-routing.ipynb#Y100sZmlsZQ%3D%3D?line=0'>1</a>\u001b[0m ox\u001b[39m.\u001b[39;49mfeatures\u001b[39m.\u001b[39;49mfeatures_from_place(\u001b[39m'\u001b[39;49m\u001b[39mPorto Alegre\u001b[39;49m\u001b[39m'\u001b[39;49m,dist\u001b[39m=\u001b[39;49m\u001b[39m500\u001b[39;49m,tags\u001b[39m=\u001b[39;49m{\u001b[39m'\u001b[39;49m\u001b[39mamenity\u001b[39;49m\u001b[39m'\u001b[39;49m:\u001b[39m'\u001b[39;49m\u001b[39mhospital\u001b[39;49m\u001b[39m'\u001b[39;49m})\n",
      "\u001b[1;31mTypeError\u001b[0m: features_from_place() got an unexpected keyword argument 'dist'"
     ]
    }
   ],
   "source": [
    "ox.features.features_from_place('Porto Alegre',dist=500,tags={'amenity':'hospital'})"
   ]
  },
  {
   "cell_type": "code",
   "execution_count": 5,
   "metadata": {},
   "outputs": [],
   "source": [
    "#creating our network dataset\n",
    "rede = ox.graph.graph_from_address('Porto Alegre',dist=1000,network_type='walk',\n",
    "simplify=True)"
   ]
  },
  {
   "cell_type": "code",
   "execution_count": 6,
   "metadata": {},
   "outputs": [],
   "source": [
    "#plotting the inspections\n",
    "#fig, ax = ox.plot_graph(rede, node_color='#aaaaaa', node_size=0, show=False, close=True)\n",
    "#ax.scatter(x=cluster['long'], y=cluster['lat'], c='red', marker='.', s=50, zorder=3)\n",
    "#fig.canvas.draw()\n",
    "#fig"
   ]
  },
  {
   "cell_type": "code",
   "execution_count": 7,
   "metadata": {},
   "outputs": [],
   "source": [
    "#creating a networkX dateset \n",
    "G_dm = nx.DiGraph(rede)"
   ]
  },
  {
   "cell_type": "code",
   "execution_count": 8,
   "metadata": {},
   "outputs": [
    {
     "data": {
      "text/html": [
       "<div>\n",
       "<style scoped>\n",
       "    .dataframe tbody tr th:only-of-type {\n",
       "        vertical-align: middle;\n",
       "    }\n",
       "\n",
       "    .dataframe tbody tr th {\n",
       "        vertical-align: top;\n",
       "    }\n",
       "\n",
       "    .dataframe thead th {\n",
       "        text-align: right;\n",
       "    }\n",
       "</style>\n",
       "<table border=\"1\" class=\"dataframe\">\n",
       "  <thead>\n",
       "    <tr style=\"text-align: right;\">\n",
       "      <th></th>\n",
       "      <th>lat</th>\n",
       "      <th>long</th>\n",
       "      <th>key</th>\n",
       "      <th>credits</th>\n",
       "    </tr>\n",
       "  </thead>\n",
       "  <tbody>\n",
       "    <tr>\n",
       "      <th>0</th>\n",
       "      <td>-23.555680</td>\n",
       "      <td>-46.590015</td>\n",
       "      <td>key</td>\n",
       "      <td>688.0</td>\n",
       "    </tr>\n",
       "    <tr>\n",
       "      <th>1</th>\n",
       "      <td>-23.575109</td>\n",
       "      <td>-46.633750</td>\n",
       "      <td>None</td>\n",
       "      <td>699.0</td>\n",
       "    </tr>\n",
       "    <tr>\n",
       "      <th>2</th>\n",
       "      <td>-23.589230</td>\n",
       "      <td>-46.672630</td>\n",
       "      <td>None</td>\n",
       "      <td>509.0</td>\n",
       "    </tr>\n",
       "    <tr>\n",
       "      <th>3</th>\n",
       "      <td>-23.564737</td>\n",
       "      <td>-46.686574</td>\n",
       "      <td>None</td>\n",
       "      <td>130.0</td>\n",
       "    </tr>\n",
       "    <tr>\n",
       "      <th>4</th>\n",
       "      <td>-23.594962</td>\n",
       "      <td>-46.666207</td>\n",
       "      <td>None</td>\n",
       "      <td>486.0</td>\n",
       "    </tr>\n",
       "    <tr>\n",
       "      <th>5</th>\n",
       "      <td>-23.561794</td>\n",
       "      <td>-46.675166</td>\n",
       "      <td>None</td>\n",
       "      <td>434.0</td>\n",
       "    </tr>\n",
       "    <tr>\n",
       "      <th>6</th>\n",
       "      <td>-23.565554</td>\n",
       "      <td>-46.747721</td>\n",
       "      <td>key_location</td>\n",
       "      <td>NaN</td>\n",
       "    </tr>\n",
       "  </tbody>\n",
       "</table>\n",
       "</div>"
      ],
      "text/plain": [
       "         lat       long           key  credits\n",
       "0 -23.555680 -46.590015           key    688.0\n",
       "1 -23.575109 -46.633750          None    699.0\n",
       "2 -23.589230 -46.672630          None    509.0\n",
       "3 -23.564737 -46.686574          None    130.0\n",
       "4 -23.594962 -46.666207          None    486.0\n",
       "5 -23.561794 -46.675166          None    434.0\n",
       "6 -23.565554 -46.747721  key_location      NaN"
      ]
     },
     "execution_count": 8,
     "metadata": {},
     "output_type": "execute_result"
    }
   ],
   "source": [
    "#testing a cluster\n",
    "cluster = nodes.loc[nodes['labels']==2].reset_index(drop=True)\n",
    "cluster = cluster[['lat','long','key','credits']]\n",
    "cluster"
   ]
  },
  {
   "cell_type": "code",
   "execution_count": 9,
   "metadata": {},
   "outputs": [
    {
     "data": {
      "text/plain": [
       "491.0"
      ]
     },
     "execution_count": 9,
     "metadata": {},
     "output_type": "execute_result"
    }
   ],
   "source": [
    "cluster['credits'].mean()"
   ]
  },
  {
   "cell_type": "code",
   "execution_count": 10,
   "metadata": {},
   "outputs": [],
   "source": [
    "#discovering the nearest nodes\n",
    "cluster['nodes'] = ox.nearest_nodes(G_dm, X=cluster['long'], Y=cluster['lat'])"
   ]
  },
  {
   "cell_type": "code",
   "execution_count": 11,
   "metadata": {},
   "outputs": [],
   "source": [
    "from itertools import permutations,combinations\n",
    "\n",
    "#perm = permutations([0,1,2,3,4,5,6,7,8,9,10,11]) \n",
    "#lista_possibilidades = list(perm)\n",
    "#len(lista_possibilidades)"
   ]
  },
  {
   "cell_type": "code",
   "execution_count": 12,
   "metadata": {},
   "outputs": [],
   "source": [
    "#len(list(permutations(range(40),4)))"
   ]
  },
  {
   "cell_type": "code",
   "execution_count": 13,
   "metadata": {},
   "outputs": [
    {
     "data": {
      "text/plain": [
       "35"
      ]
     },
     "execution_count": 13,
     "metadata": {},
     "output_type": "execute_result"
    }
   ],
   "source": [
    "lista_possibilidades_3v = list(combinations(range(7),3))\n",
    "len(lista_possibilidades_3v)\n"
   ]
  },
  {
   "cell_type": "code",
   "execution_count": 14,
   "metadata": {},
   "outputs": [
    {
     "data": {
      "text/plain": [
       "35"
      ]
     },
     "execution_count": 14,
     "metadata": {},
     "output_type": "execute_result"
    }
   ],
   "source": [
    "lista_possibilidades_4v = list(combinations(range(7),4))\n",
    "len(lista_possibilidades_4v)\n"
   ]
  },
  {
   "cell_type": "code",
   "execution_count": 15,
   "metadata": {},
   "outputs": [],
   "source": [
    "#lista_possibilidades_5v = list(combinations(range(6),5))\n",
    "#len(lista_possibilidades_5v)"
   ]
  },
  {
   "cell_type": "code",
   "execution_count": 16,
   "metadata": {},
   "outputs": [
    {
     "data": {
      "text/plain": [
       "[(0, 1, 2),\n",
       " (0, 1, 3),\n",
       " (0, 1, 4),\n",
       " (0, 1, 5),\n",
       " (0, 1, 6),\n",
       " (0, 2, 3),\n",
       " (0, 2, 4),\n",
       " (0, 2, 5),\n",
       " (0, 2, 6),\n",
       " (0, 3, 4),\n",
       " (0, 3, 5),\n",
       " (0, 3, 6),\n",
       " (0, 4, 5),\n",
       " (0, 4, 6),\n",
       " (0, 5, 6),\n",
       " (1, 2, 3),\n",
       " (1, 2, 4),\n",
       " (1, 2, 5),\n",
       " (1, 2, 6),\n",
       " (1, 3, 4),\n",
       " (1, 3, 5),\n",
       " (1, 3, 6),\n",
       " (1, 4, 5),\n",
       " (1, 4, 6),\n",
       " (1, 5, 6),\n",
       " (2, 3, 4),\n",
       " (2, 3, 5),\n",
       " (2, 3, 6),\n",
       " (2, 4, 5),\n",
       " (2, 4, 6),\n",
       " (2, 5, 6),\n",
       " (3, 4, 5),\n",
       " (3, 4, 6),\n",
       " (3, 5, 6),\n",
       " (4, 5, 6),\n",
       " (0, 1, 2, 3),\n",
       " (0, 1, 2, 4),\n",
       " (0, 1, 2, 5),\n",
       " (0, 1, 2, 6),\n",
       " (0, 1, 3, 4),\n",
       " (0, 1, 3, 5),\n",
       " (0, 1, 3, 6),\n",
       " (0, 1, 4, 5),\n",
       " (0, 1, 4, 6),\n",
       " (0, 1, 5, 6),\n",
       " (0, 2, 3, 4),\n",
       " (0, 2, 3, 5),\n",
       " (0, 2, 3, 6),\n",
       " (0, 2, 4, 5),\n",
       " (0, 2, 4, 6),\n",
       " (0, 2, 5, 6),\n",
       " (0, 3, 4, 5),\n",
       " (0, 3, 4, 6),\n",
       " (0, 3, 5, 6),\n",
       " (0, 4, 5, 6),\n",
       " (1, 2, 3, 4),\n",
       " (1, 2, 3, 5),\n",
       " (1, 2, 3, 6),\n",
       " (1, 2, 4, 5),\n",
       " (1, 2, 4, 6),\n",
       " (1, 2, 5, 6),\n",
       " (1, 3, 4, 5),\n",
       " (1, 3, 4, 6),\n",
       " (1, 3, 5, 6),\n",
       " (1, 4, 5, 6),\n",
       " (2, 3, 4, 5),\n",
       " (2, 3, 4, 6),\n",
       " (2, 3, 5, 6),\n",
       " (2, 4, 5, 6),\n",
       " (3, 4, 5, 6)]"
      ]
     },
     "execution_count": 16,
     "metadata": {},
     "output_type": "execute_result"
    }
   ],
   "source": [
    "lista_possibilidades = lista_possibilidades_3v + lista_possibilidades_4v\n",
    "lista_possibilidades"
   ]
  },
  {
   "cell_type": "code",
   "execution_count": 17,
   "metadata": {},
   "outputs": [],
   "source": [
    "route_combination = list(combinations(lista_possibilidades,2))"
   ]
  },
  {
   "cell_type": "code",
   "execution_count": 18,
   "metadata": {},
   "outputs": [
    {
     "data": {
      "text/plain": [
       "2415"
      ]
     },
     "execution_count": 18,
     "metadata": {},
     "output_type": "execute_result"
    }
   ],
   "source": [
    "len(route_combination)"
   ]
  },
  {
   "cell_type": "code",
   "execution_count": 19,
   "metadata": {},
   "outputs": [],
   "source": [
    "comb = []\n",
    "for x in route_combination:\n",
    "    check = any(item in x[0] for item in x[1])\n",
    "    if check:\n",
    "        pass\n",
    "    else:\n",
    "        #print(x)\n",
    "        comb.append(x)"
   ]
  },
  {
   "cell_type": "code",
   "execution_count": 20,
   "metadata": {},
   "outputs": [
    {
     "data": {
      "text/plain": [
       "105"
      ]
     },
     "execution_count": 20,
     "metadata": {},
     "output_type": "execute_result"
    }
   ],
   "source": [
    "len(comb)"
   ]
  },
  {
   "cell_type": "code",
   "execution_count": 21,
   "metadata": {},
   "outputs": [
    {
     "data": {
      "text/plain": [
       "[0, 1, 2, 3, 4, 5, 6]"
      ]
     },
     "execution_count": 21,
     "metadata": {},
     "output_type": "execute_result"
    }
   ],
   "source": [
    "lista = cluster.index.to_list()\n",
    "lista"
   ]
  },
  {
   "cell_type": "code",
   "execution_count": 22,
   "metadata": {},
   "outputs": [],
   "source": [
    "completa = []\n",
    "for x in comb:\n",
    "    check = all(item in x[0]+x[1] for item in lista )\n",
    "    if check:\n",
    "        completa.append([x[0],x[1]])"
   ]
  },
  {
   "cell_type": "code",
   "execution_count": 23,
   "metadata": {},
   "outputs": [
    {
     "data": {
      "text/plain": [
       "35"
      ]
     },
     "execution_count": 23,
     "metadata": {},
     "output_type": "execute_result"
    }
   ],
   "source": [
    "len(completa)"
   ]
  },
  {
   "cell_type": "code",
   "execution_count": 24,
   "metadata": {},
   "outputs": [
    {
     "data": {
      "text/plain": [
       "[[(0, 1, 6), (2, 3, 4, 5)],\n",
       " [(0, 2, 6), (1, 3, 4, 5)],\n",
       " [(0, 3, 6), (1, 2, 4, 5)],\n",
       " [(0, 4, 6), (1, 2, 3, 5)],\n",
       " [(0, 5, 6), (1, 2, 3, 4)],\n",
       " [(1, 2, 3), (0, 4, 5, 6)],\n",
       " [(1, 2, 4), (0, 3, 5, 6)],\n",
       " [(1, 2, 5), (0, 3, 4, 6)],\n",
       " [(1, 3, 4), (0, 2, 5, 6)],\n",
       " [(1, 3, 5), (0, 2, 4, 6)],\n",
       " [(1, 4, 5), (0, 2, 3, 6)],\n",
       " [(2, 3, 4), (0, 1, 5, 6)],\n",
       " [(2, 3, 5), (0, 1, 4, 6)],\n",
       " [(2, 4, 5), (0, 1, 3, 6)],\n",
       " [(3, 4, 5), (0, 1, 2, 6)]]"
      ]
     },
     "execution_count": 24,
     "metadata": {},
     "output_type": "execute_result"
    }
   ],
   "source": [
    "key_filter = []\n",
    "for i in range(len(completa)):\n",
    "    if (0 in completa[i][0] and 6 in completa[i][0]) or (0 in completa[i][1] and 6 in completa[i][1]):\n",
    "        \n",
    "        key_filter.append(completa[i])\n",
    "\n",
    "key_filter"
   ]
  },
  {
   "cell_type": "code",
   "execution_count": 25,
   "metadata": {},
   "outputs": [
    {
     "data": {
      "text/plain": [
       "15"
      ]
     },
     "execution_count": 25,
     "metadata": {},
     "output_type": "execute_result"
    }
   ],
   "source": [
    "len(key_filter)"
   ]
  },
  {
   "cell_type": "code",
   "execution_count": 26,
   "metadata": {},
   "outputs": [
    {
     "data": {
      "text/plain": [
       "1387.0"
      ]
     },
     "execution_count": 26,
     "metadata": {},
     "output_type": "execute_result"
    }
   ],
   "source": [
    "cluster.loc[cluster.index.isin(key_filter[0][0])]['credits'].sum()"
   ]
  },
  {
   "cell_type": "markdown",
   "metadata": {},
   "source": []
  },
  {
   "cell_type": "markdown",
   "metadata": {},
   "source": []
  },
  {
   "cell_type": "code",
   "execution_count": 27,
   "metadata": {},
   "outputs": [],
   "source": [
    "def condicao(conjunto,min,max):\n",
    "    condition_1 = cluster.loc[cluster.index.isin(conjunto)]['credits'].sum() > min\n",
    "    condition_2 = cluster.loc[cluster.index.isin(conjunto)]['credits'].sum() < max\n",
    "\n",
    "    return (condition_1) and (condition_2)\n",
    "\n"
   ]
  },
  {
   "cell_type": "code",
   "execution_count": 28,
   "metadata": {},
   "outputs": [],
   "source": [
    "min_credits = 500\n",
    "max_credits = 1300\n",
    "possibilidades_reais = []\n",
    "for i in range(len(key_filter)):\n",
    "\n",
    "    if condicao(key_filter[i][0],min_credits,max_credits) and condicao(key_filter[i][1],min_credits,max_credits):\n",
    "        possibilidades_reais.append(key_filter[i])"
   ]
  },
  {
   "cell_type": "code",
   "execution_count": 29,
   "metadata": {},
   "outputs": [],
   "source": [
    "def possiveis_distancias(indice):\n",
    "    if len(indice) == 3:\n",
    "        d1 = nx.dijkstra_path_length(rede, source=cluster['nodes'][0], target=cluster['nodes'][indice[1]], weight='length')\n",
    "        d2 = nx.dijkstra_path_length(rede, source=cluster['nodes'][indice[1]], target=cluster['nodes'][indice[2]], weight='length') \n",
    "        #d3 = nx.dijkstra_path_length(rede, source=cluster['nodes'][indice[2]], target=cluster['nodes'][indice[3]], weight='length')\n",
    "        #print(d1+d2)\n",
    "        distancia = (d1+d2)\n",
    "\n",
    "    elif len(indice) == 4:\n",
    "        d1 = nx.dijkstra_path_length(rede, source=cluster['nodes'][0], target=cluster['nodes'][indice[1]], weight='length')\n",
    "        d2 = nx.dijkstra_path_length(rede, source=cluster['nodes'][indice[1]], target=cluster['nodes'][indice[2]], weight='length') \n",
    "        d3 = nx.dijkstra_path_length(rede, source=cluster['nodes'][indice[2]], target=cluster['nodes'][indice[3]], weight='length')\n",
    "        #print(d1+d2+d3)\n",
    "        distancia = (d1+d2+d3)\n",
    "\n",
    "    elif len(indice) == 5:\n",
    "        d1 = nx.dijkstra_path_length(rede, source=cluster['nodes'][0], target=cluster['nodes'][indice[1]], weight='length')\n",
    "        d2 = nx.dijkstra_path_length(rede, source=cluster['nodes'][indice[1]], target=cluster['nodes'][indice[2]], weight='length') \n",
    "        d3 = nx.dijkstra_path_length(rede, source=cluster['nodes'][indice[2]], target=cluster['nodes'][indice[3]], weight='length')\n",
    "        d4 = nx.dijkstra_path_length(rede, source=cluster['nodes'][indice[3]], target=cluster['nodes'][indice[4]], weight='length')\n",
    "        #print(d1+d2+d3+d4)\n",
    "        distancia = (d1+d2+d3+d4)\n",
    "\n",
    "    elif len(indice) == 6:\n",
    "        d1 = nx.dijkstra_path_length(rede, source=cluster['nodes'][0], target=cluster['nodes'][indice[1]], weight='length')\n",
    "        d2 = nx.dijkstra_path_length(rede, source=cluster['nodes'][indice[1]], target=cluster['nodes'][indice[2]], weight='length') \n",
    "        d3 = nx.dijkstra_path_length(rede, source=cluster['nodes'][indice[2]], target=cluster['nodes'][indice[3]], weight='length')\n",
    "        d4 = nx.dijkstra_path_length(rede, source=cluster['nodes'][indice[3]], target=cluster['nodes'][indice[4]], weight='length')\n",
    "        d5 = nx.dijkstra_path_length(rede, source=cluster['nodes'][indice[4]], target=cluster['nodes'][indice[5]], weight='length')\n",
    "        #print(d1+d2+d3+d4+d5)\n",
    "        distancia = (d1+d2+d3+d4+d5)\n",
    "\n",
    "    return distancia\n",
    "\n",
    "def possiveis_caminhos(indice):\n",
    "    caminho = ox.shortest_path(rede, cluster['nodes'][0], cluster['nodes'][indice[0]])\n",
    "    caminho1 = ox.shortest_path(rede, cluster['nodes'][indice[0]], cluster['nodes'][indice[1]])\n",
    "    caminho2 = ox.shortest_path(rede, cluster['nodes'][indice[1]], cluster['nodes'][indice[2]])\n",
    "    lista = [caminho,caminho1,caminho2]\n",
    "    return lista"
   ]
  },
  {
   "cell_type": "code",
   "execution_count": 30,
   "metadata": {},
   "outputs": [
    {
     "data": {
      "text/plain": [
       "[]"
      ]
     },
     "execution_count": 30,
     "metadata": {},
     "output_type": "execute_result"
    }
   ],
   "source": [
    "lista_distancias = []\n",
    "for conjunto in possibilidades_reais:\n",
    "    lista_distancias.append(possiveis_distancias(conjunto[0]) + possiveis_distancias(conjunto[1]))\n",
    "\n",
    "lista_distancias"
   ]
  },
  {
   "cell_type": "code",
   "execution_count": null,
   "metadata": {},
   "outputs": [],
   "source": []
  },
  {
   "cell_type": "code",
   "execution_count": null,
   "metadata": {},
   "outputs": [],
   "source": []
  },
  {
   "cell_type": "code",
   "execution_count": null,
   "metadata": {},
   "outputs": [],
   "source": []
  },
  {
   "cell_type": "code",
   "execution_count": 31,
   "metadata": {},
   "outputs": [],
   "source": [
    "#IDEIA ANTIGA\n",
    "possibilidades_reais = []\n",
    "threshold_min_credits = 0\n",
    "threshold_max_credits = 10*cluster['credits'].mean()\n",
    "def condicao(imovel,chave,conjunto):\n",
    "\n",
    "\n",
    "    if imovel in conjunto and chave in conjunto:\n",
    "            \n",
    "        condition_2 = conjunto.index(chave) > conjunto.index(imovel)\n",
    "        condition_3 = cluster.loc[cluster.index.isin(conjunto)]['credits'].sum() > threshold_min_credits\n",
    "        condition_4 = cluster.loc[cluster.index.isin(conjunto)]['credits'].sum() < threshold_max_credits\n",
    "\n",
    "        if (condition_2) and (condition_3) and (condition_4):\n",
    "            possibilidades_reais.append(conjunto)\n",
    "    \n",
    "    elif imovel not in conjunto and chave not in conjunto:\n",
    "\n",
    "        condition_3 = cluster.loc[cluster.index.isin(conjunto)]['credits'].sum() > threshold_min_credits\n",
    "        condition_4 = cluster.loc[cluster.index.isin(conjunto)]['credits'].sum() < threshold_max_credits\n",
    "\n",
    "        if (condition_3) and (condition_4):\n",
    "            possibilidades_reais.append(conjunto)\n",
    "        "
   ]
  },
  {
   "cell_type": "code",
   "execution_count": 32,
   "metadata": {},
   "outputs": [
    {
     "data": {
      "text/plain": [
       "70"
      ]
     },
     "execution_count": 32,
     "metadata": {},
     "output_type": "execute_result"
    }
   ],
   "source": [
    "for tupla in lista_possibilidades:\n",
    "    condicao(11,10,tupla)\n",
    "len(possibilidades_reais)"
   ]
  },
  {
   "cell_type": "code",
   "execution_count": 33,
   "metadata": {},
   "outputs": [
    {
     "data": {
      "text/plain": [
       "2415"
      ]
     },
     "execution_count": 33,
     "metadata": {},
     "output_type": "execute_result"
    }
   ],
   "source": [
    "combinacoes = list(combinations(possibilidades_reais,2))\n",
    "len(combinacoes)"
   ]
  },
  {
   "cell_type": "code",
   "execution_count": null,
   "metadata": {},
   "outputs": [],
   "source": []
  },
  {
   "cell_type": "code",
   "execution_count": 34,
   "metadata": {},
   "outputs": [
    {
     "data": {
      "text/plain": [
       "105"
      ]
     },
     "execution_count": 34,
     "metadata": {},
     "output_type": "execute_result"
    }
   ],
   "source": [
    "len(comb)"
   ]
  },
  {
   "cell_type": "code",
   "execution_count": 35,
   "metadata": {},
   "outputs": [
    {
     "data": {
      "text/plain": [
       "[((0, 1, 2), (3, 4, 5)),\n",
       " ((0, 1, 2), (3, 4, 6)),\n",
       " ((0, 1, 2), (3, 5, 6)),\n",
       " ((0, 1, 2), (4, 5, 6)),\n",
       " ((0, 1, 2), (3, 4, 5, 6)),\n",
       " ((0, 1, 3), (2, 4, 5)),\n",
       " ((0, 1, 3), (2, 4, 6)),\n",
       " ((0, 1, 3), (2, 5, 6)),\n",
       " ((0, 1, 3), (4, 5, 6)),\n",
       " ((0, 1, 3), (2, 4, 5, 6)),\n",
       " ((0, 1, 4), (2, 3, 5)),\n",
       " ((0, 1, 4), (2, 3, 6)),\n",
       " ((0, 1, 4), (2, 5, 6)),\n",
       " ((0, 1, 4), (3, 5, 6)),\n",
       " ((0, 1, 4), (2, 3, 5, 6)),\n",
       " ((0, 1, 5), (2, 3, 4)),\n",
       " ((0, 1, 5), (2, 3, 6)),\n",
       " ((0, 1, 5), (2, 4, 6)),\n",
       " ((0, 1, 5), (3, 4, 6)),\n",
       " ((0, 1, 5), (2, 3, 4, 6)),\n",
       " ((0, 1, 6), (2, 3, 4)),\n",
       " ((0, 1, 6), (2, 3, 5)),\n",
       " ((0, 1, 6), (2, 4, 5)),\n",
       " ((0, 1, 6), (3, 4, 5)),\n",
       " ((0, 1, 6), (2, 3, 4, 5)),\n",
       " ((0, 2, 3), (1, 4, 5)),\n",
       " ((0, 2, 3), (1, 4, 6)),\n",
       " ((0, 2, 3), (1, 5, 6)),\n",
       " ((0, 2, 3), (4, 5, 6)),\n",
       " ((0, 2, 3), (1, 4, 5, 6)),\n",
       " ((0, 2, 4), (1, 3, 5)),\n",
       " ((0, 2, 4), (1, 3, 6)),\n",
       " ((0, 2, 4), (1, 5, 6)),\n",
       " ((0, 2, 4), (3, 5, 6)),\n",
       " ((0, 2, 4), (1, 3, 5, 6)),\n",
       " ((0, 2, 5), (1, 3, 4)),\n",
       " ((0, 2, 5), (1, 3, 6)),\n",
       " ((0, 2, 5), (1, 4, 6)),\n",
       " ((0, 2, 5), (3, 4, 6)),\n",
       " ((0, 2, 5), (1, 3, 4, 6)),\n",
       " ((0, 2, 6), (1, 3, 4)),\n",
       " ((0, 2, 6), (1, 3, 5)),\n",
       " ((0, 2, 6), (1, 4, 5)),\n",
       " ((0, 2, 6), (3, 4, 5)),\n",
       " ((0, 2, 6), (1, 3, 4, 5)),\n",
       " ((0, 3, 4), (1, 2, 5)),\n",
       " ((0, 3, 4), (1, 2, 6)),\n",
       " ((0, 3, 4), (1, 5, 6)),\n",
       " ((0, 3, 4), (2, 5, 6)),\n",
       " ((0, 3, 4), (1, 2, 5, 6)),\n",
       " ((0, 3, 5), (1, 2, 4)),\n",
       " ((0, 3, 5), (1, 2, 6)),\n",
       " ((0, 3, 5), (1, 4, 6)),\n",
       " ((0, 3, 5), (2, 4, 6)),\n",
       " ((0, 3, 5), (1, 2, 4, 6)),\n",
       " ((0, 3, 6), (1, 2, 4)),\n",
       " ((0, 3, 6), (1, 2, 5)),\n",
       " ((0, 3, 6), (1, 4, 5)),\n",
       " ((0, 3, 6), (2, 4, 5)),\n",
       " ((0, 3, 6), (1, 2, 4, 5)),\n",
       " ((0, 4, 5), (1, 2, 3)),\n",
       " ((0, 4, 5), (1, 2, 6)),\n",
       " ((0, 4, 5), (1, 3, 6)),\n",
       " ((0, 4, 5), (2, 3, 6)),\n",
       " ((0, 4, 5), (1, 2, 3, 6)),\n",
       " ((0, 4, 6), (1, 2, 3)),\n",
       " ((0, 4, 6), (1, 2, 5)),\n",
       " ((0, 4, 6), (1, 3, 5)),\n",
       " ((0, 4, 6), (2, 3, 5)),\n",
       " ((0, 4, 6), (1, 2, 3, 5)),\n",
       " ((0, 5, 6), (1, 2, 3)),\n",
       " ((0, 5, 6), (1, 2, 4)),\n",
       " ((0, 5, 6), (1, 3, 4)),\n",
       " ((0, 5, 6), (2, 3, 4)),\n",
       " ((0, 5, 6), (1, 2, 3, 4)),\n",
       " ((1, 2, 3), (4, 5, 6)),\n",
       " ((1, 2, 3), (0, 4, 5, 6)),\n",
       " ((1, 2, 4), (3, 5, 6)),\n",
       " ((1, 2, 4), (0, 3, 5, 6)),\n",
       " ((1, 2, 5), (3, 4, 6)),\n",
       " ((1, 2, 5), (0, 3, 4, 6)),\n",
       " ((1, 2, 6), (3, 4, 5)),\n",
       " ((1, 2, 6), (0, 3, 4, 5)),\n",
       " ((1, 3, 4), (2, 5, 6)),\n",
       " ((1, 3, 4), (0, 2, 5, 6)),\n",
       " ((1, 3, 5), (2, 4, 6)),\n",
       " ((1, 3, 5), (0, 2, 4, 6)),\n",
       " ((1, 3, 6), (2, 4, 5)),\n",
       " ((1, 3, 6), (0, 2, 4, 5)),\n",
       " ((1, 4, 5), (2, 3, 6)),\n",
       " ((1, 4, 5), (0, 2, 3, 6)),\n",
       " ((1, 4, 6), (2, 3, 5)),\n",
       " ((1, 4, 6), (0, 2, 3, 5)),\n",
       " ((1, 5, 6), (2, 3, 4)),\n",
       " ((1, 5, 6), (0, 2, 3, 4)),\n",
       " ((2, 3, 4), (0, 1, 5, 6)),\n",
       " ((2, 3, 5), (0, 1, 4, 6)),\n",
       " ((2, 3, 6), (0, 1, 4, 5)),\n",
       " ((2, 4, 5), (0, 1, 3, 6)),\n",
       " ((2, 4, 6), (0, 1, 3, 5)),\n",
       " ((2, 5, 6), (0, 1, 3, 4)),\n",
       " ((3, 4, 5), (0, 1, 2, 6)),\n",
       " ((3, 4, 6), (0, 1, 2, 5)),\n",
       " ((3, 5, 6), (0, 1, 2, 4)),\n",
       " ((4, 5, 6), (0, 1, 2, 3))]"
      ]
     },
     "execution_count": 35,
     "metadata": {},
     "output_type": "execute_result"
    }
   ],
   "source": [
    "comb"
   ]
  },
  {
   "cell_type": "code",
   "execution_count": null,
   "metadata": {},
   "outputs": [],
   "source": []
  },
  {
   "cell_type": "code",
   "execution_count": null,
   "metadata": {},
   "outputs": [],
   "source": []
  },
  {
   "cell_type": "code",
   "execution_count": null,
   "metadata": {},
   "outputs": [],
   "source": []
  },
  {
   "cell_type": "code",
   "execution_count": 36,
   "metadata": {},
   "outputs": [
    {
     "ename": "ValueError",
     "evalue": "min() arg is an empty sequence",
     "output_type": "error",
     "traceback": [
      "\u001b[1;31m---------------------------------------------------------------------------\u001b[0m",
      "\u001b[1;31mValueError\u001b[0m                                Traceback (most recent call last)",
      "\u001b[1;32mc:\\dev\\av_agenda\\3-routing.ipynb Cell 45\u001b[0m line \u001b[0;36m<cell line: 1>\u001b[1;34m()\u001b[0m\n\u001b[1;32m----> <a href='vscode-notebook-cell:/c%3A/dev/av_agenda/3-routing.ipynb#X62sZmlsZQ%3D%3D?line=0'>1</a>\u001b[0m \u001b[39mmin\u001b[39;49m(lista_distancias)\n",
      "\u001b[1;31mValueError\u001b[0m: min() arg is an empty sequence"
     ]
    }
   ],
   "source": [
    "min(lista_distancias)"
   ]
  },
  {
   "cell_type": "code",
   "execution_count": null,
   "metadata": {},
   "outputs": [
    {
     "data": {
      "image/png": "[encoded data removed]",
      "text/plain": [
       "<Figure size 800x800 with 1 Axes>"
      ]
     },
     "metadata": {},
     "output_type": "display_data"
    },
    {
     "ename": "KeyboardInterrupt",
     "evalue": "",
     "output_type": "error",
     "traceback": [
      "\u001b[1;31m---------------------------------------------------------------------------\u001b[0m",
      "\u001b[1;31mKeyboardInterrupt\u001b[0m                         Traceback (most recent call last)",
      "\u001b[1;32mc:\\dev\\av_agenda\\3-routing.ipynb Célula: 36\u001b[0m in \u001b[0;36m<cell line: 1>\u001b[1;34m()\u001b[0m\n\u001b[0;32m      <a href='vscode-notebook-cell:/c%3A/dev/av_agenda/3-routing.ipynb#Y105sZmlsZQ%3D%3D?line=0'>1</a>\u001b[0m \u001b[39mfor\u001b[39;00m x \u001b[39min\u001b[39;00m comb[\u001b[39m1\u001b[39m]:\n\u001b[1;32m----> <a href='vscode-notebook-cell:/c%3A/dev/av_agenda/3-routing.ipynb#Y105sZmlsZQ%3D%3D?line=1'>2</a>\u001b[0m     fig, ax \u001b[39m=\u001b[39m ox\u001b[39m.\u001b[39;49mplot_graph_routes(rede,possiveis_caminhos(x))\n",
      "File \u001b[1;32mc:\\Users\\eduar\\.conda\\envs\\ox\\lib\\site-packages\\osmnx\\plot.py:361\u001b[0m, in \u001b[0;36mplot_graph_routes\u001b[1;34m(G, routes, route_colors, route_linewidths, **pgr_kwargs)\u001b[0m\n\u001b[0;32m    359\u001b[0m override \u001b[39m=\u001b[39m {\u001b[39m\"\u001b[39m\u001b[39mroute\u001b[39m\u001b[39m\"\u001b[39m, \u001b[39m\"\u001b[39m\u001b[39mroute_color\u001b[39m\u001b[39m\"\u001b[39m, \u001b[39m\"\u001b[39m\u001b[39mroute_linewidth\u001b[39m\u001b[39m\"\u001b[39m, \u001b[39m\"\u001b[39m\u001b[39mshow\u001b[39m\u001b[39m\"\u001b[39m, \u001b[39m\"\u001b[39m\u001b[39msave\u001b[39m\u001b[39m\"\u001b[39m, \u001b[39m\"\u001b[39m\u001b[39mclose\u001b[39m\u001b[39m\"\u001b[39m}\n\u001b[0;32m    360\u001b[0m kwargs \u001b[39m=\u001b[39m {k: v \u001b[39mfor\u001b[39;00m k, v \u001b[39min\u001b[39;00m pgr_kwargs\u001b[39m.\u001b[39mitems() \u001b[39mif\u001b[39;00m k \u001b[39mnot\u001b[39;00m \u001b[39min\u001b[39;00m override}\n\u001b[1;32m--> 361\u001b[0m fig, ax \u001b[39m=\u001b[39m plot_graph_route(\n\u001b[0;32m    362\u001b[0m     G,\n\u001b[0;32m    363\u001b[0m     route\u001b[39m=\u001b[39mroutes[\u001b[39m0\u001b[39m],\n\u001b[0;32m    364\u001b[0m     route_color\u001b[39m=\u001b[39mroute_colors[\u001b[39m0\u001b[39m],\n\u001b[0;32m    365\u001b[0m     route_linewidth\u001b[39m=\u001b[39mroute_linewidths[\u001b[39m0\u001b[39m],\n\u001b[0;32m    366\u001b[0m     show\u001b[39m=\u001b[39m\u001b[39mFalse\u001b[39;00m,\n\u001b[0;32m    367\u001b[0m     save\u001b[39m=\u001b[39m\u001b[39mFalse\u001b[39;00m,\n\u001b[0;32m    368\u001b[0m     close\u001b[39m=\u001b[39m\u001b[39mFalse\u001b[39;00m,\n\u001b[0;32m    369\u001b[0m     \u001b[39m*\u001b[39m\u001b[39m*\u001b[39mkwargs,\n\u001b[0;32m    370\u001b[0m )\n\u001b[0;32m    372\u001b[0m \u001b[39m# plot the subsequent routes on top of existing ax\u001b[39;00m\n\u001b[0;32m    373\u001b[0m override\u001b[39m.\u001b[39mupdate({\u001b[39m\"\u001b[39m\u001b[39max\u001b[39m\u001b[39m\"\u001b[39m})\n",
      "File \u001b[1;32mc:\\Users\\eduar\\.conda\\envs\\ox\\lib\\site-packages\\osmnx\\plot.py:289\u001b[0m, in \u001b[0;36mplot_graph_route\u001b[1;34m(G, route, route_color, route_linewidth, route_alpha, orig_dest_size, ax, **pg_kwargs)\u001b[0m\n\u001b[0;32m    287\u001b[0m     override \u001b[39m=\u001b[39m {\u001b[39m\"\u001b[39m\u001b[39mshow\u001b[39m\u001b[39m\"\u001b[39m, \u001b[39m\"\u001b[39m\u001b[39msave\u001b[39m\u001b[39m\"\u001b[39m, \u001b[39m\"\u001b[39m\u001b[39mclose\u001b[39m\u001b[39m\"\u001b[39m}\n\u001b[0;32m    288\u001b[0m     kwargs \u001b[39m=\u001b[39m {k: v \u001b[39mfor\u001b[39;00m k, v \u001b[39min\u001b[39;00m pg_kwargs\u001b[39m.\u001b[39mitems() \u001b[39mif\u001b[39;00m k \u001b[39mnot\u001b[39;00m \u001b[39min\u001b[39;00m override}\n\u001b[1;32m--> 289\u001b[0m     fig, ax \u001b[39m=\u001b[39m plot_graph(G, show\u001b[39m=\u001b[39m\u001b[39mFalse\u001b[39;00m, save\u001b[39m=\u001b[39m\u001b[39mFalse\u001b[39;00m, close\u001b[39m=\u001b[39m\u001b[39mFalse\u001b[39;00m, \u001b[39m*\u001b[39m\u001b[39m*\u001b[39mkwargs)\n\u001b[0;32m    290\u001b[0m \u001b[39melse\u001b[39;00m:\n\u001b[0;32m    291\u001b[0m     fig \u001b[39m=\u001b[39m ax\u001b[39m.\u001b[39mfigure\n",
      "File \u001b[1;32mc:\\Users\\eduar\\.conda\\envs\\ox\\lib\\site-packages\\osmnx\\plot.py:213\u001b[0m, in \u001b[0;36mplot_graph\u001b[1;34m(G, ax, figsize, bgcolor, node_color, node_size, node_alpha, node_edgecolor, node_zorder, edge_color, edge_linewidth, edge_alpha, show, close, save, filepath, dpi, bbox)\u001b[0m\n\u001b[0;32m    210\u001b[0m \u001b[39mif\u001b[39;00m max_edge_lw \u001b[39m>\u001b[39m \u001b[39m0\u001b[39m:\n\u001b[0;32m    211\u001b[0m     \u001b[39m# plot the edges' geometries\u001b[39;00m\n\u001b[0;32m    212\u001b[0m     gdf_edges \u001b[39m=\u001b[39m utils_graph\u001b[39m.\u001b[39mgraph_to_gdfs(G, nodes\u001b[39m=\u001b[39m\u001b[39mFalse\u001b[39;00m)[\u001b[39m\"\u001b[39m\u001b[39mgeometry\u001b[39m\u001b[39m\"\u001b[39m]\n\u001b[1;32m--> 213\u001b[0m     ax \u001b[39m=\u001b[39m gdf_edges\u001b[39m.\u001b[39;49mplot(ax\u001b[39m=\u001b[39;49max, color\u001b[39m=\u001b[39;49medge_color, lw\u001b[39m=\u001b[39;49medge_linewidth, alpha\u001b[39m=\u001b[39;49medge_alpha, zorder\u001b[39m=\u001b[39;49m\u001b[39m1\u001b[39;49m)\n\u001b[0;32m    215\u001b[0m \u001b[39mif\u001b[39;00m max_node_size \u001b[39m>\u001b[39m \u001b[39m0\u001b[39m:\n\u001b[0;32m    216\u001b[0m     \u001b[39m# scatter plot the nodes' x/y coordinates\u001b[39;00m\n\u001b[0;32m    217\u001b[0m     gdf_nodes \u001b[39m=\u001b[39m utils_graph\u001b[39m.\u001b[39mgraph_to_gdfs(G, edges\u001b[39m=\u001b[39m\u001b[39mFalse\u001b[39;00m, node_geometry\u001b[39m=\u001b[39m\u001b[39mFalse\u001b[39;00m)[[\u001b[39m\"\u001b[39m\u001b[39mx\u001b[39m\u001b[39m\"\u001b[39m, \u001b[39m\"\u001b[39m\u001b[39my\u001b[39m\u001b[39m\"\u001b[39m]]\n",
      "File \u001b[1;32mc:\\Users\\eduar\\.conda\\envs\\ox\\lib\\site-packages\\geopandas\\geoseries.py:807\u001b[0m, in \u001b[0;36mGeoSeries.plot\u001b[1;34m(self, *args, **kwargs)\u001b[0m\n\u001b[0;32m    805\u001b[0m \u001b[39m@doc\u001b[39m(plot_series)\n\u001b[0;32m    806\u001b[0m \u001b[39mdef\u001b[39;00m \u001b[39mplot\u001b[39m(\u001b[39mself\u001b[39m, \u001b[39m*\u001b[39margs, \u001b[39m*\u001b[39m\u001b[39m*\u001b[39mkwargs):\n\u001b[1;32m--> 807\u001b[0m     \u001b[39mreturn\u001b[39;00m plot_series(\u001b[39mself\u001b[39m, \u001b[39m*\u001b[39margs, \u001b[39m*\u001b[39m\u001b[39m*\u001b[39mkwargs)\n",
      "File \u001b[1;32mc:\\Users\\eduar\\.conda\\envs\\ox\\lib\\site-packages\\geopandas\\plotting.py:468\u001b[0m, in \u001b[0;36mplot_series\u001b[1;34m(s, cmap, color, ax, figsize, aspect, **style_kwds)\u001b[0m\n\u001b[0;32m    465\u001b[0m     values_ \u001b[39m=\u001b[39m values[line_idx] \u001b[39mif\u001b[39;00m cmap \u001b[39melse\u001b[39;00m \u001b[39mNone\u001b[39;00m\n\u001b[0;32m    466\u001b[0m     color_ \u001b[39m=\u001b[39m expl_color[line_idx] \u001b[39mif\u001b[39;00m color_given \u001b[39melse\u001b[39;00m color\n\u001b[1;32m--> 468\u001b[0m     _plot_linestring_collection(\n\u001b[0;32m    469\u001b[0m         ax, lines, values_, color\u001b[39m=\u001b[39mcolor_, cmap\u001b[39m=\u001b[39mcmap, \u001b[39m*\u001b[39m\u001b[39m*\u001b[39mstyle_kwds\n\u001b[0;32m    470\u001b[0m     )\n\u001b[0;32m    472\u001b[0m \u001b[39m# plot all Points in the same collection\u001b[39;00m\n\u001b[0;32m    473\u001b[0m points \u001b[39m=\u001b[39m expl_series[point_idx]\n",
      "File \u001b[1;32mc:\\Users\\eduar\\.conda\\envs\\ox\\lib\\site-packages\\geopandas\\plotting.py:233\u001b[0m, in \u001b[0;36m_plot_linestring_collection\u001b[1;34m(ax, geoms, values, color, cmap, vmin, vmax, **kwargs)\u001b[0m\n\u001b[0;32m    229\u001b[0m     kwargs[\u001b[39m\"\u001b[39m\u001b[39mcolor\u001b[39m\u001b[39m\"\u001b[39m] \u001b[39m=\u001b[39m color\n\u001b[0;32m    231\u001b[0m _expand_kwargs(kwargs, multiindex)\n\u001b[1;32m--> 233\u001b[0m segments \u001b[39m=\u001b[39m [np\u001b[39m.\u001b[39marray(linestring\u001b[39m.\u001b[39mcoords)[:, :\u001b[39m2\u001b[39m] \u001b[39mfor\u001b[39;00m linestring \u001b[39min\u001b[39;00m geoms]\n\u001b[0;32m    234\u001b[0m collection \u001b[39m=\u001b[39m LineCollection(segments, \u001b[39m*\u001b[39m\u001b[39m*\u001b[39mkwargs)\n\u001b[0;32m    236\u001b[0m \u001b[39mif\u001b[39;00m values \u001b[39mis\u001b[39;00m \u001b[39mnot\u001b[39;00m \u001b[39mNone\u001b[39;00m:\n",
      "File \u001b[1;32mc:\\Users\\eduar\\.conda\\envs\\ox\\lib\\site-packages\\geopandas\\plotting.py:233\u001b[0m, in \u001b[0;36m<listcomp>\u001b[1;34m(.0)\u001b[0m\n\u001b[0;32m    229\u001b[0m     kwargs[\u001b[39m\"\u001b[39m\u001b[39mcolor\u001b[39m\u001b[39m\"\u001b[39m] \u001b[39m=\u001b[39m color\n\u001b[0;32m    231\u001b[0m _expand_kwargs(kwargs, multiindex)\n\u001b[1;32m--> 233\u001b[0m segments \u001b[39m=\u001b[39m [np\u001b[39m.\u001b[39;49marray(linestring\u001b[39m.\u001b[39;49mcoords)[:, :\u001b[39m2\u001b[39m] \u001b[39mfor\u001b[39;00m linestring \u001b[39min\u001b[39;00m geoms]\n\u001b[0;32m    234\u001b[0m collection \u001b[39m=\u001b[39m LineCollection(segments, \u001b[39m*\u001b[39m\u001b[39m*\u001b[39mkwargs)\n\u001b[0;32m    236\u001b[0m \u001b[39mif\u001b[39;00m values \u001b[39mis\u001b[39;00m \u001b[39mnot\u001b[39;00m \u001b[39mNone\u001b[39;00m:\n",
      "File \u001b[1;32mc:\\Users\\eduar\\.conda\\envs\\ox\\lib\\site-packages\\shapely\\coords.py:157\u001b[0m, in \u001b[0;36mCoordinateSequence.array_interface\u001b[1;34m(self)\u001b[0m\n\u001b[0;32m    151\u001b[0m \u001b[39melse\u001b[39;00m:\n\u001b[0;32m    152\u001b[0m     \u001b[39mraise\u001b[39;00m \u001b[39mValueError\u001b[39;00m(\n\u001b[0;32m    153\u001b[0m         \u001b[39m\"\u001b[39m\u001b[39mUnsupported byteorder: neither little nor big-endian\u001b[39m\u001b[39m\"\u001b[39m)\n\u001b[0;32m    154\u001b[0m ai \u001b[39m=\u001b[39m {\n\u001b[0;32m    155\u001b[0m     \u001b[39m'\u001b[39m\u001b[39mversion\u001b[39m\u001b[39m'\u001b[39m: \u001b[39m3\u001b[39m,\n\u001b[0;32m    156\u001b[0m     \u001b[39m'\u001b[39m\u001b[39mtypestr\u001b[39m\u001b[39m'\u001b[39m: typestr,\n\u001b[1;32m--> 157\u001b[0m     \u001b[39m'\u001b[39m\u001b[39mdata\u001b[39m\u001b[39m'\u001b[39m: \u001b[39mself\u001b[39;49m\u001b[39m.\u001b[39;49m_ctypes,\n\u001b[0;32m    158\u001b[0m     }\n\u001b[0;32m    159\u001b[0m ai\u001b[39m.\u001b[39mupdate({\u001b[39m'\u001b[39m\u001b[39mshape\u001b[39m\u001b[39m'\u001b[39m: (\u001b[39mlen\u001b[39m(\u001b[39mself\u001b[39m), \u001b[39mself\u001b[39m\u001b[39m.\u001b[39m_ndim)})\n\u001b[0;32m    160\u001b[0m \u001b[39mreturn\u001b[39;00m ai\n",
      "File \u001b[1;32mc:\\Users\\eduar\\.conda\\envs\\ox\\lib\\site-packages\\shapely\\speedups\\_speedups.pyx:423\u001b[0m, in \u001b[0;36mshapely.speedups._speedups.coordseq_ctypes\u001b[1;34m()\u001b[0m\n",
      "File \u001b[1;32mc:\\Users\\eduar\\.conda\\envs\\ox\\lib\\site-packages\\shapely\\coords.py:49\u001b[0m, in \u001b[0;36mCoordinateSequence._update\u001b[1;34m(self)\u001b[0m\n\u001b[0;32m     47\u001b[0m \u001b[39melse\u001b[39;00m:\n\u001b[0;32m     48\u001b[0m     \u001b[39mself\u001b[39m\u001b[39m.\u001b[39m_ndim \u001b[39m=\u001b[39m \u001b[39mself\u001b[39m\u001b[39m.\u001b[39m__p__\u001b[39m.\u001b[39m_ndim\n\u001b[1;32m---> 49\u001b[0m     \u001b[39mself\u001b[39m\u001b[39m.\u001b[39m_cseq \u001b[39m=\u001b[39m lgeos\u001b[39m.\u001b[39;49mGEOSGeom_getCoordSeq(\u001b[39mself\u001b[39;49m\u001b[39m.\u001b[39;49m__p__\u001b[39m.\u001b[39;49m_geom)\n",
      "\u001b[1;31mKeyboardInterrupt\u001b[0m: "
     ]
    },
    {
     "data": {
      "image/png": "[encoded data removed]",
      "text/plain": [
       "<Figure size 800x800 with 1 Axes>"
      ]
     },
     "metadata": {},
     "output_type": "display_data"
    }
   ],
   "source": [
    "for x in comb[1]:\n",
    "    fig, ax = ox.plot_graph_routes(rede,possiveis_caminhos(x))"
   ]
  },
  {
   "cell_type": "code",
   "execution_count": null,
   "metadata": {},
   "outputs": [],
   "source": [
    "\n",
    "for conjunto in possibilidades_reais:\n",
    "    print(conjunto)\n",
    "    possiveis_distancias(conjunto)\n",
    "    fig, ax = ox.plot_graph_routes(rede,possiveis_caminhos(conjunto))"
   ]
  },
  {
   "cell_type": "code",
   "execution_count": null,
   "metadata": {},
   "outputs": [],
   "source": [
    "nodes[['lat','long']].to_csv('nodes.csv')"
   ]
  }
 ],
 "metadata": {
  "kernelspec": {
   "display_name": "Python 3.10.6 ('ox')",
   "language": "python",
   "name": "python3"
  },
  "language_info": {
   "codemirror_mode": {
    "name": "ipython",
    "version": 3
   },
   "file_extension": ".py",
   "mimetype": "text/x-python",
   "name": "python",
   "nbconvert_exporter": "python",
   "pygments_lexer": "ipython3",
   "version": "3.11.5"
  },
  "orig_nbformat": 4,
  "vscode": {
   "interpreter": {
    "hash": "4043799a44f3409da0a7a4ebd239ebc5949d35c4e09c6f479698d5adc006e85e"
   }
  }
 },
 "nbformat": 4,
 "nbformat_minor": 2
}
